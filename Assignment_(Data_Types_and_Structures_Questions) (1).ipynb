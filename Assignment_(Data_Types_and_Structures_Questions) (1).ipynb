{
  "nbformat": 4,
  "nbformat_minor": 0,
  "metadata": {
    "colab": {
      "provenance": []
    },
    "kernelspec": {
      "name": "python3",
      "display_name": "Python 3"
    },
    "language_info": {
      "name": "python"
    }
  },
  "cells": [
    {
      "cell_type": "markdown",
      "source": [
        "#Assignment - 2 (Data Types and Structures Questions)"
      ],
      "metadata": {
        "id": "p1d30rVejI2D"
      }
    },
    {
      "cell_type": "markdown",
      "source": [
        "**Q1.What are data structures, and why are they important?**\n",
        "\n",
        "  Data structures are specialized formats for organizing, storing, and managing data in a computer so it can be accessed and modified efficiently. They define the relationship between data elements and the operations that can be performed on them.\n",
        "\n",
        "\n",
        "### **Why Are Data Structures Important?**\n",
        "1. **Efficient Data Management** - They allow quick access, modification, and storage of data.\n",
        "2. **Optimized Performance** - Choosing the right data structure improves time and space efficiency.\n",
        "3. **Better Problem Solving** - Many algorithms rely on specific data structures for optimal performance.\n",
        "4. **Scalability** - Helps manage large-scale applications efficiently.\n",
        "5. **Code Maintainability** - Makes code more readable, reusable, and easier to debug.\n",
        "\n"
      ],
      "metadata": {
        "id": "d13aLSVEjZiV"
      }
    },
    {
      "cell_type": "markdown",
      "source": [
        "**Q2. Explain the difference between mutable and immutable data types with examples.**\n",
        "\n",
        "  In programming, particularly in Python, data types are classified as mutable or immutable based on whether their values can be changed after creation.\n",
        "\n",
        "  ### **Mutable vs Immutable Data Types**  \n",
        "\n",
        "  In programming, particularly in Python, data types are classified as **mutable** or **immutable** based on whether their values can be changed after creation.\n",
        "\n",
        "  ### **Mutable Data Types**  \n",
        "  Mutable data types **can be modified** after they are created without changing their reference (memory location).  \n",
        "\n",
        "  #### **Examples of Mutable Data Types:**  \n",
        "  1. **Lists**  \n",
        "  \n",
        "  2. **Dictionaries**  \n",
        "\n",
        "  3. **Sets**  \n",
        "   \n",
        "\n",
        "  ### **Immutable Data Types**  \n",
        "  Immutable data types **cannot be modified** after they are created. Any operation that tries to change them results in a new object being created.\n",
        "\n",
        "  #### **Examples of Immutable Data Types:**  \n",
        "  1. **Strings**  \n",
        "   \n",
        "  2. **Tuples**  \n",
        "\n",
        "  3. **Numbers (Integers, Floats, Booleans)**  \n",
        "  \n",
        "  4. **Frozen Sets**  \n",
        "   "
      ],
      "metadata": {
        "id": "85ihWk33klB6"
      }
    },
    {
      "cell_type": "markdown",
      "source": [
        "**Q3. Differences Between Lists and Tuples in Python**  \n",
        "\n",
        "Both **lists** and **tuples** are used to store collections of data, but they have key differences in terms of mutability, performance, and usage.\n",
        "\n",
        "\n",
        "### **Examples:**\n",
        "#### **Lists (Mutable)**\n",
        "```python\n",
        "my_list = [1, 2, 3]\n",
        "my_list.append(4)  \n",
        "print(my_list)  \n",
        "```\n",
        "\n",
        "#### **Tuples (Immutable)**\n",
        "```python\n",
        "my_tuple = (1, 2, 3)\n",
        "# my_tuple[0] = 10  \n",
        "print(my_tuple)\n",
        "```\n"
      ],
      "metadata": {
        "id": "YEnPLMDXmBNj"
      }
    },
    {
      "cell_type": "markdown",
      "source": [
        "**Q4. How Dictionaries Store Data in Python**  \n",
        "\n",
        "A **dictionary** in Python is a collection of **key-value pairs** that allows efficient data retrieval. It is implemented using a **hash table** internally.\n",
        "\n",
        "---\n",
        "\n",
        "**1. Dictionary Structure**  \n",
        "A dictionary stores data as:\n",
        "```python\n",
        "my_dict = {\"name\": \"Alice\", \"age\": 25, \"city\": \"New York\"}\n",
        "```\n",
        "Here:\n",
        "- `\"name\"`, `\"age\"`, and `\"city\"` are **keys**.\n",
        "- `\"Alice\"`, `25`, and `\"New York\"` are **values**.\n",
        "\n",
        "---\n",
        "\n",
        "**2. How Data is Stored Internally**\n",
        "Python dictionaries use a **hash table** implementation:\n",
        "- **Keys are hashed** using a **hash function** (`hash(key)`) to generate a unique integer.\n",
        "- This hash determines the **index** in an internal array where the value is stored.\n",
        "- If two different keys generate the same hash (collision), Python handles it using **open addressing** (probing for the next available slot).\n",
        "\n",
        "---\n",
        "\n",
        "\n",
        "**3. Example of Hashing in Dictionaries**\n",
        "```python\n",
        "my_dict = {\"apple\": 5, \"banana\": 10, \"cherry\": 7}\n",
        "print(hash(\"apple\"))  # Generates a unique hash value\n",
        "```\n",
        "- The key `\"apple\"` is hashed and mapped to a specific index.\n",
        "- The value `5` is stored at that index.\n",
        "\n",
        "---\n",
        "\n"
      ],
      "metadata": {
        "id": "vHGSOzT4mkAp"
      }
    },
    {
      "cell_type": "markdown",
      "source": [
        "**Q5. Why might you use a set instead of a list in Python?**\n",
        "\n",
        "**Why Use a Set Instead of a List in Python?**  \n",
        "\n",
        "A **set** in Python is an **unordered collection** of **unique** elements. It is implemented using a **hash table**, making it more efficient for certain operations compared to lists.\n",
        "\n",
        "\n",
        "**When to Use a Set Instead of a List**\n",
        "1. **Fast Membership Checking**\n",
        "   - If you need to check if an element exists frequently (x in set is **O(1)**, while x in list is **O(n)**).\n",
        "   ```python\n",
        "   my_set = {1, 2, 3, 4, 5}\n",
        "   print(3 in my_set)  #\n",
        "   ```\n",
        "\n",
        "2. **Removing Duplicates Efficiently**\n",
        "   - Converting a list to a set automatically removes duplicates.\n",
        "   ```python\n",
        "   my_list = [1, 2, 2, 3, 4, 4, 5]\n",
        "   unique_set = set(my_list)  # {1, 2, 3, 4, 5}\n",
        "   ```\n",
        "\n",
        "3. **Mathematical Set Operations (Union, Intersection, Difference)**\n",
        "   - Sets allow operations like `union()`, `intersection()`, and `difference()`, which are not directly available in lists.\n",
        "   ```python\n",
        "   set1 = {1, 2, 3}\n",
        "   set2 = {3, 4, 5}\n",
        "   print(set1 | set2)  # Union -> {1, 2, 3, 4, 5}\n",
        "   print(set1 & set2)  # Intersection -> {3}\n",
        "   print(set1 - set2)  # Difference -> {1, 2}\n",
        "   ```\n",
        "\n",
        "4. **Better Performance for Large Datasets**\n",
        "   - When dealing with large datasets where uniqueness and fast lookups are needed, sets outperform lists."
      ],
      "metadata": {
        "id": "3MoE8E8gnG8k"
      }
    },
    {
      "cell_type": "markdown",
      "source": [
        "**Q6. What is a String in Python. how is it different from a list**  \n",
        "A **string** in Python is an **immutable sequence of characters** used to store text. It is defined using either single (`'`), double (`\"`) or triple quotes\n",
        "#### **Example:**\n",
        "```python\n",
        "string = \"Hello, World!\"\n",
        "```\n",
        "\n",
        "---\n",
        "\n",
        "\n",
        "### **Key Differences**\n",
        "1. **Mutability**\n",
        "   - Strings **cannot** be changed once created. Any modification creates a new string.\n",
        "   - Lists **can** be modified by changing, adding, or removing elements.\n",
        "\n",
        "   ```python\n",
        "   # String (Immutable)\n",
        "   my_string = \"hello\"\n",
        "   # my_string[0] = \"H\"  \n",
        "   my_string = \"Hello\"\n",
        "\n",
        "   # List (Mutable)\n",
        "   my_list = ['h', 'e', 'l', 'l', 'o']\n",
        "   my_list[0] = 'H'  \n",
        "   print(my_list)  # ['H', 'e', 'l', 'l', 'o']\n",
        "   ```\n",
        "\n",
        "2. **Data Storage**\n",
        "   - Strings can only store **characters**.\n",
        "   - Lists can store **any data type** (numbers, strings, lists, objects, etc.).\n",
        "\n",
        "   ```python\n",
        "   my_list = [1, \"apple\", 3.14, [5, 6]]\n",
        "   ```\n",
        "\n",
        "3. **Modification & Performance**\n",
        "   - Since strings are immutable, modifying a string (like concatenation) creates a **new object** in memory, making frequent modifications inefficient.\n",
        "   - Lists are more **efficient** for operations like appending, deleting, or modifying elements.\n",
        "\n",
        "   ```python\n",
        "   # String modification\n",
        "   s = \"Hello\"\n",
        "   s += \" World\"  # New string created\n",
        "\n",
        "   # List modification\n",
        "   l = [\"Hello\"]\n",
        "   l.append(\"World\")  \n",
        "   ```"
      ],
      "metadata": {
        "id": "6gD5iB_Bo079"
      }
    },
    {
      "cell_type": "markdown",
      "source": [
        "**Q7. How do tuples ensure data integrity in Python?**\n",
        "\n",
        "\n",
        "Tuples in Python ensure data integrity primarily through their immutability and hashability, which prevent accidental modifications and maintain consistency. This makes tuples an excellent choice for storing fixed, unchangeable data.\n",
        "\n",
        "---\n",
        "\n",
        "**1. Immutability Prevents Accidental Modifications**\n",
        "- A **tuple cannot be changed** after creation, meaning elements **cannot be added, removed, or modified**.\n",
        "- This ensures that once data is set, it **remains unchanged**, preventing accidental modifications.\n",
        "\n",
        "\n",
        "**2. Tuples Are Hashable (Can Be Used as Dictionary Keys)**\n",
        "- Because tuples are immutable, they can be hashed and used as keys in dictionaries.\n",
        "- This ensures data integrity in key-value mappings, preventing changes that could lead to lookup errors.\n",
        "\n",
        "\n",
        "**3. Tuples Prevent Side Effects in Function Calls**\n",
        "- When passing **lists** to functions, they can be modified inside the function, leading to unintended side effects.\n",
        "- Passing **tuples** ensures that the original data **remains unchanged**.\n",
        "\n",
        "**4. Thread-Safe (No Synchronization Issues)**\n",
        "- Since tuples are **immutable**, they are **safe to use in multi-threaded applications**.\n",
        "- Multiple threads can **access the same tuple without locks**, preventing **race conditions**.\n",
        "\n",
        "\n",
        "**5. Reliable Function Return Values**\n",
        "- Functions that return **tuples** ensure that their return values **cannot be modified**.\n",
        "- This guarantees **data consistency**, especially when dealing with **configurations or database results**.\n"
      ],
      "metadata": {
        "id": "hh_he9VPp-vE"
      }
    },
    {
      "cell_type": "markdown",
      "source": [
        " **Q8. What is a hash table, and how does it relate to dictionaries in Python**\n",
        "\n",
        " **What is a Hash Table?**  \n",
        "A **hash table** is a data structure that stores key-value pairs using a **hashing function** to compute an index, allowing for **fast lookups, insertions, and deletions**.  \n",
        "\n",
        "It consists of:  \n",
        "1. **Keys** (Unique identifiers for values)  \n",
        "2. **Values** (Associated data)  \n",
        "3. **A Hash Function** (Maps keys to an index in an array)  \n",
        "\n",
        "\n",
        "**How Do Hash Tables Work?**\n",
        "1. **Hashing the Key:**  \n",
        "   - A **hash function** takes the key and converts it into a numerical index.   \n",
        "\n",
        "2. **Storing the Value:**  \n",
        "   - The value is placed at the computed index in a backing array.  \n",
        "\n",
        "3. **Handling Collisions:**  \n",
        "   - If two keys generate the same index (collision), Python uses **open addressing** or **linked lists** to resolve it.  \n",
        "\n",
        "4. **Retrieving Values:**  \n",
        "   - The same hash function is used to find the key’s index and return the associated value in **O(1) time complexity** (on average).  \n"
      ],
      "metadata": {
        "id": "mYF0lP7MsJ3h"
      }
    },
    {
      "cell_type": "markdown",
      "source": [
        "**Q8. Can Lists Contain Different Data Types in Python?**  \n",
        "\n",
        "Yes! In Python, lists are heterogeneous, meaning they can store elements of different data types within the same list.\n",
        "\n",
        "**Example: A List with Multiple Data Types**\n",
        "```python\n",
        "my_list = [42, \"hello\", 3.14, True, [1, 2, 3], {\"key\": \"value\"}]\n",
        "print(my_list)\n",
        "```\n",
        "   **Contains:**  \n",
        "- 42 - Integer (int)  \n",
        "- \"hello\" - String (str)  \n",
        "- 3.14 - Float (float)  \n",
        "- True - Boolean (bool)  \n",
        "- [1, 2, 3] - List (list)  \n",
        "- {\"key\": \"value\"} - Dictionary (dict)  \n",
        "\n",
        "\n",
        "**Why Can Lists Hold Different Types?**\n",
        "\n",
        "Python is **dynamically typed**, meaning:\n",
        "- You don’t have to declare the data type of variables explicitly.\n",
        "- Lists store references to objects, not fixed types.\n"
      ],
      "metadata": {
        "id": "ic6PzKlMs17D"
      }
    },
    {
      "cell_type": "markdown",
      "source": [
        "**Q10.  Explain why strings are immutable in Python.**\n",
        "  \n",
        "\n",
        "In Python, **strings are immutable**, meaning that once a string is created, **it cannot be changed**. Any operation that appears to modify a string actually creates a **new string object** instead.  \n",
        "\n",
        "\n",
        "**1. Memory Efficiency (String Interning)**\n",
        "- Python **interns** some strings (especially short or commonly used ones), meaning they are **stored only once in memory** and reused to save space.  \n",
        "- If strings were mutable, changing one reference would change all others, causing **unexpected behavior**.\n",
        "\n",
        "**2. Hashability (Strings as Dictionary Keys)**\n",
        "- Immutable objects, like strings and tuples, can be **hashed** and used as dictionary keys.  \n",
        "- If strings were mutable, their hash values could change, making dictionary lookups unreliable.\n",
        "\n",
        "**3. Preventing Unintended Side Effects**\n",
        "- Immutability ensures that once a string is created, it **remains unchanged**, preventing **accidental modifications**.\n",
        "\n",
        "**4. Thread Safety (No Synchronization Issues)**\n",
        "- Since strings **cannot be modified**, multiple threads can safely read them **without locks**.  \n",
        "- This prevents **race conditions** in multi-threaded programs.\n",
        "\n",
        "**5. Simplicity and Security**\n",
        "- Immutable objects are easier to reason about and debug.  \n",
        "- They prevent **accidental overwrites** that could cause security vulnerabilities.\n",
        "\n"
      ],
      "metadata": {
        "id": "nuXRvZC1uVss"
      }
    },
    {
      "cell_type": "markdown",
      "source": [
        "**Q11.What advantages do dictionaries offer over lists for certain tasks?**\n",
        "\n",
        "Dictionaries offer several advantages over lists for certain tasks:  \n",
        "\n",
        "1. **Faster Lookup Time** → Dictionaries provide **O(1)** average time complexity for key-based lookups, while lists require **O(n)** time for searching an element.  \n",
        "\n",
        "2. **Key-Value Mapping** → Unlike lists, dictionaries store data in **key-value pairs**, making it easier to retrieve values without knowing their position.  \n",
        "\n",
        "3. **No Need for Indexing** → In lists, elements are accessed by index, whereas dictionaries allow direct access using meaningful keys, improving readability and efficiency.  \n",
        "\n",
        "4. **Flexible and Unordered Storage** → Dictionaries allow **heterogeneous data types** for keys and values, while lists use integer-based indexing.  \n",
        "\n",
        "5. **Avoids Duplicate Keys** → Dictionaries prevent duplicate keys, ensuring unique identifiers for data, whereas lists allow duplicate values.  \n",
        "\n",
        "6. **Efficient Data Modification** → Updating or deleting elements in a dictionary is faster than searching and modifying elements in a list.  \n",
        "\n",
        "7. **Ideal for Large Datasets** → When dealing with large amounts of data that require quick lookups, dictionaries outperform lists in terms of performance.  \n",
        "\n"
      ],
      "metadata": {
        "id": "2TcDMZSczffs"
      }
    },
    {
      "cell_type": "markdown",
      "source": [
        "**Q12. Describe a scenario where using a tuple would be preferable over a list.**\n",
        "\n",
        "\n",
        "A **tuple** is preferable over a **list** in scenarios where **immutability, performance, or data integrity** is important.  \n",
        "\n",
        "**Scenario: Storing Coordinates of a Location**  \n",
        "If you're working with **latitude and longitude** coordinates,a **tuple** is the better choice because:  \n",
        "1. **Data should remain unchanged** → Coordinates don’t need modifications, so immutability prevents accidental changes.  \n",
        "2. **Memory efficiency** → Tuples use less memory compared to lists, improving performance in large-scale applications.  \n",
        "3. **Hashability** → Tuples can be used as dictionary keys or stored in sets, whereas lists cannot.  \n"
      ],
      "metadata": {
        "id": "301OJ8vU0Pko"
      }
    },
    {
      "cell_type": "markdown",
      "source": [
        " **Q13. How do sets handle duplicate values in Python?**\n",
        "\n",
        "\n",
        "In Python, **sets automatically remove duplicate values** when elements are added.  \n",
        "\n",
        "**How Sets Handle Duplicates:**\n",
        "1. **Only Unique Elements** → If duplicate values are added to a set, Python **stores only one instance** of each unique value.  \n",
        "2. **Unordered Storage** → Sets do not maintain the order of insertion.  \n",
        "3. **Efficient Membership Check** → Sets allow fast lookups (O(1) average time complexity) due to their underlying **hash table** implementation.  \n"
      ],
      "metadata": {
        "id": "iXrTWNKU1Rqt"
      }
    },
    {
      "cell_type": "markdown",
      "source": [
        "**Q14. How does the “in” keyword work differently for lists and dictionaries?**\n",
        "\n",
        "The \"in\" keyword is used to check for membership in both lists and dictionaries, but it works differently in each:\n",
        "\n",
        "**1. in with Lists**\n",
        "Checks if a value exists as an element in the list.\n",
        "Performs a linear search (O(n)), meaning it checks each element one by one.\n",
        "\n",
        "**2. in with Dictionaries**\n",
        "Checks for the presence of a key (not values).\n",
        "Performs a constant-time (O(1)) lookup using a hash table, making it much faster than searching in a list."
      ],
      "metadata": {
        "id": "20jwGWv32UXg"
      }
    },
    {
      "cell_type": "markdown",
      "source": [
        "**Q15. Can you modify the elements of a tuple? Explain why or why not?**\n",
        "\n",
        "No, you **cannot** modify the elements of a **tuple** in Python because **tuples are immutable**.  \n",
        "\n",
        "**Why Can't Tuples Be Modified?**\n",
        "1. **Immutability** → Once a tuple is created, its elements **cannot be changed, added, or removed**.  \n",
        "2. **Memory Efficiency** → Python optimizes tuples for performance by storing them in a way that prevents modification.  \n",
        "3. **Hashability** → Since tuples are immutable, they can be used as **keys in dictionaries** or stored in **sets** (if they contain only immutable elements).  \n",
        "\n",
        "**Exception: Mutable Elements Inside a Tuple**\n",
        "- While **tuple elements themselves** cannot be modified, if a tuple contains a **mutable object** (like a list), the contents of that object **can** be changed.  \n",
        "\n"
      ],
      "metadata": {
        "id": "Tf9Xs0wV22Ht"
      }
    },
    {
      "cell_type": "markdown",
      "source": [
        "### **What is a Nested Dictionary?**  \n",
        "A **nested dictionary** is a dictionary **inside another dictionary**. It allows storing **hierarchical** or **structured** data in a compact and organized way.  \n",
        "\n",
        "\n",
        "**Use Case: Storing Student Records**  \n",
        "A **nested dictionary** can be used to store **multiple students' details**, where each student has their own dictionary of information.\n",
        "\n",
        "\n"
      ],
      "metadata": {
        "id": "u3tZmJyI3NnU"
      }
    },
    {
      "cell_type": "code",
      "execution_count": 1,
      "metadata": {
        "id": "n1gCeIDYiZLO",
        "colab": {
          "base_uri": "https://localhost:8080/"
        },
        "outputId": "8e9b7878-9f66-4665-d4fd-297e33142523"
      },
      "outputs": [
        {
          "output_type": "stream",
          "name": "stdout",
          "text": [
            "Alice\n",
            "78\n"
          ]
        }
      ],
      "source": [
        "#**Example:**\n",
        "# Nested dictionary for student records\n",
        "students = {\n",
        "    \"student_1\": {\"name\": \"Alice\", \"age\": 20, \"grades\": {\"math\": 85, \"science\": 90}},\n",
        "    \"student_2\": {\"name\": \"Bob\", \"age\": 22, \"grades\": {\"math\": 78, \"science\": 88}},\n",
        "}\n",
        "\n",
        "# Accessing data from the nested dictionary\n",
        "print(students[\"student_1\"][\"name\"])   # Output: Alice\n",
        "print(students[\"student_2\"][\"grades\"][\"math\"])  # Output: 78"
      ]
    },
    {
      "cell_type": "markdown",
      "source": [
        "**Q17.Describe the time complexity of accessing elements in a dictionary**\n",
        "\n",
        "\n",
        "In Python, dictionaries are implemented as hash tables, which provide highly efficient lookups.\n",
        "\n",
        "1. Average Case (Best Case) → O(1) (Constant Time)\n",
        "Accessing an element using a key (dict[key]) takes constant time on average.\n",
        "This is because dictionaries use hashing, which allows direct access to values.\n",
        "2. Worst Case → O(n) (Linear Time)\n",
        "In rare cases, hash collisions may occur, forcing Python to search through a list of values (chained hashing).\n",
        "If too many keys hash to the same slot, lookup time may degrade to linear time (O(n))."
      ],
      "metadata": {
        "id": "rNPpE_I33nvD"
      }
    },
    {
      "cell_type": "markdown",
      "source": [
        "**Q18.In what situations are lists preferred over dictionaries?**\n",
        "\n",
        "\n",
        "**Situations Where Lists Are Preferred Over Dictionaries**  \n",
        "\n",
        "Lists are preferred over dictionaries in cases where:  \n",
        "\n",
        "**1. Ordered Data is Required**  \n",
        "- Lists **maintain order**, while dictionaries (before Python 3.7) did not.  \n",
        "- Useful when storing **sequences** like a list of tasks or steps in a process.  \n",
        "\n",
        "**2. Simple Sequential Access is Needed**  \n",
        "- If elements are accessed by their **position (indexing)** rather than by a key.  \n",
        "- Example: Iterating over a series of numbers (for num in my_list).\n",
        "\n",
        "**3. Memory Efficiency Matters**  \n",
        "- Lists are **more memory-efficient** than dictionaries because they do not store keys.  \n",
        "- If only values need to be stored, using a dictionary would waste space.  \n",
        "\n",
        "**4. No Unique Keys are Needed**  \n",
        "- Lists allow **duplicate elements**, whereas dictionary keys must be **unique**.  \n",
        "- Example: Storing multiple scores from a game ([90, 85, 90, 100]).  \n",
        "\n",
        "**5. Sorting and Slicing are Required**  \n",
        "- Lists support **sorting (sort()) and slicing (list[start:end])**, which dictionaries do not.  \n",
        "- Example: Sorting a list of names alphabetically.  \n"
      ],
      "metadata": {
        "id": "0CJvmhmp44Ke"
      }
    },
    {
      "cell_type": "markdown",
      "source": [
        "**Q19. Why are dictionaries considered unordered, and how does that affect data retrieval**\n",
        "\n",
        "\n",
        "**Why Are Dictionaries Considered Unordered?**  \n",
        "\n",
        "Dictionaries **maintain insertion order**, but they are still considered **unordered in a traditional sense** because:  \n",
        "1. **Internal Hashing** → Elements are placed in memory based on their **hash values**, not their position.  \n",
        "2. **Key-Based Access** → Unlike lists, dictionaries do **not support index-based retrieval**.  \n",
        "\n",
        "**How This Affects Data Retrieval**\n",
        "1. **No Positional Access** → You cannot retrieve elements using an index like dict[0], only by key (dict[\"key\"]).  \n",
        "2. **Iteration Order** → The order of items during iteration was **not guaranteed** to match the insertion order.  \n",
        "3. **Fast Lookup** → Since dictionaries use a **hash table**, retrieving a value by key is faster than searching through a list.  \n",
        "\n"
      ],
      "metadata": {
        "id": "LjhDU6lR5gh8"
      }
    },
    {
      "cell_type": "markdown",
      "source": [
        " **Q20. Explain the difference between a list and a dictionary in terms of data retrieval.**\n",
        "\n",
        "\n",
        "**1️⃣ Data Retrieval in Lists**\n",
        "- Uses **index-based retrieval**.  \n",
        "- Searching for an element (if the index is unknown) takes **O(n)** time.  \n",
        "- Example:\n",
        "```python\n",
        "my_list = [\"apple\", \"banana\", \"cherry\"]\n",
        "print(my_list[1])  # Output: banana\n",
        "```\n",
        "\n",
        "**2️⃣ Data Retrieval in Dictionaries**\n",
        "- Uses **key-based retrieval**.  \n",
        "- Retrieving a value by key is **O(1)** (average case) due to hashing.  \n",
        "- Example:\n",
        "```python\n",
        "my_dict = {\"fruit1\": \"apple\", \"fruit2\": \"banana\", \"fruit3\": \"cherry\"}\n",
        "print(my_dict[\"fruit2\"])  # Output: banana\n",
        "```\n"
      ],
      "metadata": {
        "id": "oV7mDG-y6hXs"
      }
    },
    {
      "cell_type": "code",
      "source": [
        "#Example Data Retrieval in Lists:\n",
        "\n",
        "my_list = [\"apple\", \"banana\", \"cherry\"]\n",
        "print(my_list[1])  # Output: banana\n"
      ],
      "metadata": {
        "colab": {
          "base_uri": "https://localhost:8080/"
        },
        "id": "DcnpcyE27HjB",
        "outputId": "95a8f222-664e-40da-d4b8-9235a6cc5930"
      },
      "execution_count": 3,
      "outputs": [
        {
          "output_type": "stream",
          "name": "stdout",
          "text": [
            "banana\n"
          ]
        }
      ]
    },
    {
      "cell_type": "code",
      "source": [
        "#Example Data Retrieval in Dictionaries:\n",
        "my_dict = {\"fruit1\": \"apple\", \"fruit2\": \"banana\", \"fruit3\": \"cherry\"}\n",
        "print(my_dict[\"fruit2\"])  # Output: banana"
      ],
      "metadata": {
        "colab": {
          "base_uri": "https://localhost:8080/"
        },
        "id": "mQDo9pux7Wkt",
        "outputId": "11482ec0-e44f-4dca-e8f2-8781b195f890"
      },
      "execution_count": 4,
      "outputs": [
        {
          "output_type": "stream",
          "name": "stdout",
          "text": [
            "banana\n"
          ]
        }
      ]
    },
    {
      "cell_type": "markdown",
      "source": [
        "#Assignment - 2 (Practical Questions)"
      ],
      "metadata": {
        "id": "nXNVslvV7SRO"
      }
    },
    {
      "cell_type": "code",
      "source": [
        "#Q1. Write a code to create a string with your name and print it.\n",
        "# Create a string with your name\n",
        "my_name = \"Deepanshu\"\n",
        "\n",
        "# Print the name\n",
        "print(\"My name is:\", my_name)\n"
      ],
      "metadata": {
        "colab": {
          "base_uri": "https://localhost:8080/"
        },
        "id": "c6JxBcgh8LrV",
        "outputId": "b98311cc-3143-46e1-cba6-7a020dead82d"
      },
      "execution_count": 6,
      "outputs": [
        {
          "output_type": "stream",
          "name": "stdout",
          "text": [
            "My name is: Deepanshu\n"
          ]
        }
      ]
    },
    {
      "cell_type": "code",
      "source": [
        "#Q2. Write a code to find the length of the string \"Hello World\"\n",
        "\n",
        "# Define the string\n",
        "my_string = \"Hello World\"\n",
        "\n",
        "# Find the length of the string\n",
        "length = len(my_string)\n",
        "\n",
        "print(\"Length of the string:\", length)\n"
      ],
      "metadata": {
        "colab": {
          "base_uri": "https://localhost:8080/"
        },
        "id": "fmOYj_A58XqD",
        "outputId": "cb7442a9-f0f8-42c5-d7e7-a9daa8655f06"
      },
      "execution_count": 8,
      "outputs": [
        {
          "output_type": "stream",
          "name": "stdout",
          "text": [
            "Length of the string: 11\n"
          ]
        }
      ]
    },
    {
      "cell_type": "code",
      "source": [
        "#Q3. Write a code to slice the first 3 characters from the string \"Python Programming\".\n",
        "\n",
        "string = \"Python Programming\"\n",
        "\n",
        "sliced_string = my_string[:3]\n",
        "\n",
        "print(\"First 3 characters:\", sliced_string)\n"
      ],
      "metadata": {
        "colab": {
          "base_uri": "https://localhost:8080/"
        },
        "id": "YzBS0bCX8nWF",
        "outputId": "64bd66bc-8396-40c6-aaec-7869e9bd47ac"
      },
      "execution_count": 9,
      "outputs": [
        {
          "output_type": "stream",
          "name": "stdout",
          "text": [
            "First 3 characters: Hel\n"
          ]
        }
      ]
    },
    {
      "cell_type": "code",
      "source": [
        "#Q4.  Write a code to convert the string \"hello\" to uppercase.\n",
        "\n",
        "my_string = \"hello\"\n",
        "\n",
        "uppercase_string = my_string.upper()\n",
        "\n",
        "print(\"Uppercase string:\", uppercase_string)\n"
      ],
      "metadata": {
        "colab": {
          "base_uri": "https://localhost:8080/"
        },
        "id": "Qtllg-4E9KOg",
        "outputId": "df96edf1-bdc9-48c4-db09-ea3dbc290528"
      },
      "execution_count": 10,
      "outputs": [
        {
          "output_type": "stream",
          "name": "stdout",
          "text": [
            "Uppercase string: HELLO\n"
          ]
        }
      ]
    },
    {
      "cell_type": "code",
      "source": [
        "#Q5. Write a code to replace the word \"apple\" with \"orange\" in the string \"I like apple\".\n",
        "\n",
        "my_string = \"I like apple\"\n",
        "\n",
        "# Replace \"apple\" with \"orange\"\n",
        "new_string = my_string.replace(\"apple\", \"orange\")\n",
        "\n",
        "print(\"Updated string:\", new_string)\n",
        "\n"
      ],
      "metadata": {
        "colab": {
          "base_uri": "https://localhost:8080/"
        },
        "id": "_4AygOEk9emW",
        "outputId": "99ee11c4-5781-484e-9478-03d89ea73393"
      },
      "execution_count": 11,
      "outputs": [
        {
          "output_type": "stream",
          "name": "stdout",
          "text": [
            "Updated string: I like orange\n"
          ]
        }
      ]
    },
    {
      "cell_type": "code",
      "source": [
        " #Q6. Write a code to create a list with numbers 1 to 5 and print it.\n",
        "\n",
        " # Create a list with numbers 1 to 5\n",
        "numbers = [1, 2, 3, 4, 5]\n",
        "\n",
        "# Print the list\n",
        "print(\"List of numbers:\", numbers)\n"
      ],
      "metadata": {
        "colab": {
          "base_uri": "https://localhost:8080/"
        },
        "id": "9jFGVjpJ-A1h",
        "outputId": "befa86d7-7fe2-45af-d512-08ddc328d95d"
      },
      "execution_count": 12,
      "outputs": [
        {
          "output_type": "stream",
          "name": "stdout",
          "text": [
            "List of numbers: [1, 2, 3, 4, 5]\n"
          ]
        }
      ]
    },
    {
      "cell_type": "code",
      "source": [
        "#Q7.Write a code to append the number 10 to the list [1, 2, 3, 4].\n",
        "\n",
        "numbers=[1,2,3,4]\n",
        "\n",
        "# Append 10 to the list\n",
        "numbers.append(15)\n",
        "\n",
        "print(\"updated list\", numbers)\n"
      ],
      "metadata": {
        "colab": {
          "base_uri": "https://localhost:8080/"
        },
        "id": "KUtUm7J4-XI1",
        "outputId": "317f0d3b-504f-43a2-d69b-55e877204417"
      },
      "execution_count": 17,
      "outputs": [
        {
          "output_type": "stream",
          "name": "stdout",
          "text": [
            "updated list [1, 2, 3, 4, 15]\n"
          ]
        }
      ]
    },
    {
      "cell_type": "code",
      "source": [
        "#Q8. Write a code to remove the number 3 from the list [1, 2, 3, 4, 5]\n",
        "\n",
        "\n",
        "numbers = [1, 2, 3, 4, 5]\n",
        "\n",
        "# Remove the number 3\n",
        "numbers.remove(3)\n",
        "\n",
        "print(\"Updated list:\", numbers)\n",
        "\n"
      ],
      "metadata": {
        "colab": {
          "base_uri": "https://localhost:8080/"
        },
        "id": "XSgZ5u8e-9uZ",
        "outputId": "937a50ff-2dc2-4315-dd3c-ebbf4e1b6702"
      },
      "execution_count": 16,
      "outputs": [
        {
          "output_type": "stream",
          "name": "stdout",
          "text": [
            "Updated list: [1, 2, 4, 5]\n"
          ]
        }
      ]
    },
    {
      "cell_type": "code",
      "source": [
        "#Q9.  Write a code to access the second element in the list ['a', 'b', 'c', 'd'].\n",
        "\n",
        "letters = ['a', 'b', 'c', 'd']\n",
        "\n",
        "# Access the second element\n",
        "second_element = letters[1]\n",
        "\n",
        "# Print the result\n",
        "print(\"Second element:\", second_element)\n"
      ],
      "metadata": {
        "colab": {
          "base_uri": "https://localhost:8080/"
        },
        "id": "Ydd2jl5C_UNC",
        "outputId": "ba3e1eb8-4866-44c0-a818-fc7b26627085"
      },
      "execution_count": 18,
      "outputs": [
        {
          "output_type": "stream",
          "name": "stdout",
          "text": [
            "Second element: b\n"
          ]
        }
      ]
    },
    {
      "cell_type": "code",
      "source": [
        "#Q10. Write a code to reverse the list [10, 20, 30, 40, 50].\n",
        "\n",
        " # Define the list\n",
        "numbers = [10, 20, 30, 40, 50]\n",
        "\n",
        "# Reverse the list\n",
        "reversed_numbers = numbers[::-1]  # Using slicing\n",
        "\n",
        "# Print the reversed list\n",
        "print(\"Reversed list:\", reversed_numbers)\n"
      ],
      "metadata": {
        "colab": {
          "base_uri": "https://localhost:8080/"
        },
        "id": "BlIrcXvX_hz0",
        "outputId": "c1ccc416-47ce-46de-dc7b-5942634ee972"
      },
      "execution_count": 19,
      "outputs": [
        {
          "output_type": "stream",
          "name": "stdout",
          "text": [
            "Reversed list: [50, 40, 30, 20, 10]\n"
          ]
        }
      ]
    },
    {
      "cell_type": "code",
      "source": [
        "#Q11. Write a code to create a tuple with the elements 100, 200, 300 and print it.\n",
        "\n",
        "# Create a tuple\n",
        "my_tuple = (100, 200, 300)\n",
        "\n",
        "# Print the tuple\n",
        "print(\"Tuple:\", my_tuple)\n"
      ],
      "metadata": {
        "colab": {
          "base_uri": "https://localhost:8080/"
        },
        "id": "D1HIbuKt_k-d",
        "outputId": "22e08213-100a-4c34-9c1a-91b522375ef5"
      },
      "execution_count": 20,
      "outputs": [
        {
          "output_type": "stream",
          "name": "stdout",
          "text": [
            "Tuple: (100, 200, 300)\n"
          ]
        }
      ]
    },
    {
      "cell_type": "code",
      "source": [
        "#Q12. Write a code to access the second-to-last element of the tuple ('red', 'green', 'blue', 'yellow').\n",
        "\n",
        "# Define the tuple\n",
        "colors = ('red', 'green', 'blue', 'yellow')\n",
        "\n",
        "# Access the second-to-last element using negative indexing\n",
        "second_to_last = colors[-2]\n",
        "\n",
        "# Print the result\n",
        "print(\"Second-to-last element:\", second_to_last)\n"
      ],
      "metadata": {
        "colab": {
          "base_uri": "https://localhost:8080/"
        },
        "id": "j6jHPSzO_kxc",
        "outputId": "459419b1-7b08-47f0-b4bc-a9f340541a8c"
      },
      "execution_count": 21,
      "outputs": [
        {
          "output_type": "stream",
          "name": "stdout",
          "text": [
            "Second-to-last element: blue\n"
          ]
        }
      ]
    },
    {
      "cell_type": "code",
      "source": [
        "#Q13.  Write a code to find the minimum number in the tuple (10, 20, 5, 15).\n",
        "\n",
        "# Define the tuple\n",
        "numbers = (10, 20, 5, 15)\n",
        "\n",
        "# Find the minimum number\n",
        "min_number = min(numbers)\n",
        "\n",
        "# Print the result\n",
        "print(\"Minimum number:\", min_number)\n"
      ],
      "metadata": {
        "colab": {
          "base_uri": "https://localhost:8080/"
        },
        "id": "cti7njCZ_klj",
        "outputId": "5c71cec2-ce64-4901-c99e-c80b6e4b9dfd"
      },
      "execution_count": 22,
      "outputs": [
        {
          "output_type": "stream",
          "name": "stdout",
          "text": [
            "Minimum number: 5\n"
          ]
        }
      ]
    },
    {
      "cell_type": "code",
      "source": [
        "#Q14.  Write a code to find the index of the element \"cat\" in the tuple ('dog', 'cat', 'rabbit')\n",
        "\n",
        "# Define the tuple\n",
        "animals = ('dog', 'cat', 'rabbit')\n",
        "\n",
        "# Find the index of \"cat\"\n",
        "index_of_cat = animals.index(\"cat\")\n",
        "\n",
        "# Print the result\n",
        "print(\"Index of 'cat':\", index_of_cat)\n",
        "\n"
      ],
      "metadata": {
        "colab": {
          "base_uri": "https://localhost:8080/"
        },
        "id": "koS7-4iW_kZ3",
        "outputId": "58baa656-8b7b-466b-fa52-913dd381bf81"
      },
      "execution_count": 23,
      "outputs": [
        {
          "output_type": "stream",
          "name": "stdout",
          "text": [
            "Index of 'cat': 1\n"
          ]
        }
      ]
    },
    {
      "cell_type": "code",
      "source": [
        "#Q15.  Write a code to create a tuple containing three different fruits and check if \"kiwi\" is in it.\n",
        "\n",
        "# Define the tuple with three fruits\n",
        "fruits = (\"apple\", \"banana\", \"cherry\")\n",
        "\n",
        "# Check if \"kiwi\" is in the tuple\n",
        "if \"kiwi\" in fruits:\n",
        "    print(\"Kiwi is in the tuple.\")\n",
        "else:\n",
        "    print(\"Kiwi is NOT in the tuple.\")\n"
      ],
      "metadata": {
        "colab": {
          "base_uri": "https://localhost:8080/"
        },
        "id": "SDsBJlP5_kLJ",
        "outputId": "ac93c49c-1abf-49df-e308-2df82ae6f3b3"
      },
      "execution_count": 24,
      "outputs": [
        {
          "output_type": "stream",
          "name": "stdout",
          "text": [
            "Kiwi is NOT in the tuple.\n"
          ]
        }
      ]
    },
    {
      "cell_type": "code",
      "source": [
        "#Q16. Write a code to create a set with the elements 'a', 'b', 'c' and print it.\n",
        "\n",
        "# Create a set\n",
        "my_set = {'a', 'b', 'c'}\n",
        "\n",
        "# Print the set\n",
        "print(\"Set:\", my_set)\n",
        "\n"
      ],
      "metadata": {
        "colab": {
          "base_uri": "https://localhost:8080/"
        },
        "id": "Wmc4N6Wo_j2J",
        "outputId": "ff4bef84-e1a6-4207-ab2f-bf68d855ec75"
      },
      "execution_count": 25,
      "outputs": [
        {
          "output_type": "stream",
          "name": "stdout",
          "text": [
            "Set: {'c', 'a', 'b'}\n"
          ]
        }
      ]
    },
    {
      "cell_type": "code",
      "source": [
        "#Q17.  Write a code to clear all elements from the set {1, 2, 3, 4, 5}\n",
        "\n",
        "# Define the set\n",
        "my_set = {1, 2, 3, 4, 5}\n",
        "\n",
        "# Clear all elements from the set\n",
        "my_set.clear()\n",
        "\n",
        "# Print the updated set\n",
        "print(\"Set after clearing:\", my_set)\n"
      ],
      "metadata": {
        "colab": {
          "base_uri": "https://localhost:8080/"
        },
        "id": "xPId144b_jtg",
        "outputId": "49066293-734f-4333-8378-250b54ef1d9d"
      },
      "execution_count": 26,
      "outputs": [
        {
          "output_type": "stream",
          "name": "stdout",
          "text": [
            "Set after clearing: set()\n"
          ]
        }
      ]
    },
    {
      "cell_type": "code",
      "source": [
        "#Q18. Write a code to remove the element 4 from the set {1, 2, 3, 4}\n",
        "\n",
        "# Define the set\n",
        "my_set = {1, 2, 3, 4}\n",
        "\n",
        "# Remove the element 4\n",
        "my_set.remove(4)\n",
        "\n",
        "# Print the updated set\n",
        "print(\"Set after removing 4:\", my_set)\n"
      ],
      "metadata": {
        "colab": {
          "base_uri": "https://localhost:8080/"
        },
        "id": "OI3S6C47Bvyd",
        "outputId": "8a9ace40-4de3-437d-c17f-76d0c8629abf"
      },
      "execution_count": 27,
      "outputs": [
        {
          "output_type": "stream",
          "name": "stdout",
          "text": [
            "Set after removing 4: {1, 2, 3}\n"
          ]
        }
      ]
    },
    {
      "cell_type": "code",
      "source": [
        "#Q19. Write a code to find the union of two sets {1, 2, 3} and {3, 4, 5}.\n",
        "\n",
        "# Define the sets\n",
        "set1 = {1, 2, 3}\n",
        "set2 = {3, 4, 5}\n",
        "\n",
        "# Find the union of the two sets\n",
        "union_set = set1.union(set2)\n",
        "\n",
        "# Print the result\n",
        "print(\"Union of sets:\", union_set)\n",
        "\n"
      ],
      "metadata": {
        "colab": {
          "base_uri": "https://localhost:8080/"
        },
        "id": "f9w-e97_BvRI",
        "outputId": "84e1da15-be5e-4077-8924-df4c75186981"
      },
      "execution_count": 28,
      "outputs": [
        {
          "output_type": "stream",
          "name": "stdout",
          "text": [
            "Union of sets: {1, 2, 3, 4, 5}\n"
          ]
        }
      ]
    },
    {
      "cell_type": "code",
      "source": [
        "#Q20. Write a code to find the intersection of two sets {1, 2, 3} and {2, 3, 4}.\n",
        "\n",
        "# Define the sets\n",
        "set1 = {1, 2, 3}\n",
        "set2 = {2, 3, 4}\n",
        "\n",
        "# Find the intersection of the two sets\n",
        "intersection_set = set1.intersection(set2)\n",
        "\n",
        "# Print the result\n",
        "print(\"Intersection of sets:\", intersection_set)\n"
      ],
      "metadata": {
        "colab": {
          "base_uri": "https://localhost:8080/"
        },
        "id": "t_Vr5fVeBvED",
        "outputId": "c8d0bfd8-9005-4c0d-8c15-8acba64aa81a"
      },
      "execution_count": 29,
      "outputs": [
        {
          "output_type": "stream",
          "name": "stdout",
          "text": [
            "Intersection of sets: {2, 3}\n"
          ]
        }
      ]
    },
    {
      "cell_type": "code",
      "source": [
        "#Q21. Write a code to create a dictionary with the keys \"name\", \"age\", and \"city\", and print it.\n",
        "\n",
        "# Create a dictionary\n",
        "person = {\n",
        "    \"name\": \"Deepanshu\",\n",
        "    \"age\": 21,\n",
        "    \"city\": \"New Delhi\"\n",
        "}\n",
        "\n",
        "# Print the dictionary\n",
        "print(\"Dictionary:\", person)\n"
      ],
      "metadata": {
        "colab": {
          "base_uri": "https://localhost:8080/"
        },
        "id": "Lr2oHPaQCeON",
        "outputId": "dacbf049-57f5-4640-ee33-38ed889e246f"
      },
      "execution_count": 32,
      "outputs": [
        {
          "output_type": "stream",
          "name": "stdout",
          "text": [
            "Dictionary: {'name': 'Deepanshu', 'age': 21, 'city': 'New Delhi'}\n"
          ]
        }
      ]
    },
    {
      "cell_type": "code",
      "source": [
        "#Q22. Write a code to add a new key-value pair \"country\": \"USA\" to the dictionary {'name': 'John', 'age': 25}\n",
        "\n",
        "# Define the dictionary\n",
        "person = {'name': 'John', 'age': 25}\n",
        "\n",
        "# Add a new key-value pair\n",
        "person['country'] = 'USA'\n",
        "\n",
        "# Print the updated dictionary\n",
        "print(\"Updated dictionary:\", person)\n"
      ],
      "metadata": {
        "colab": {
          "base_uri": "https://localhost:8080/"
        },
        "id": "JzDIE4aRCdz-",
        "outputId": "6c771c1c-7cbd-45f6-df74-a0d5e1a70e1c"
      },
      "execution_count": 33,
      "outputs": [
        {
          "output_type": "stream",
          "name": "stdout",
          "text": [
            "Updated dictionary: {'name': 'John', 'age': 25, 'country': 'USA'}\n"
          ]
        }
      ]
    },
    {
      "cell_type": "code",
      "source": [
        "#Q23. Write a code to access the value associated with the key \"name\" in the dictionary {'name': 'Alice', 'age': 30}.\n",
        "\n",
        "# Define the dictionary\n",
        "person = {'name': 'Alice', 'age': 30}\n",
        "\n",
        "# Access the value using the key \"name\"\n",
        "name_value = person['name']\n",
        "\n",
        "# Print the result\n",
        "print(\"Value associated with 'name':\", name_value)\n"
      ],
      "metadata": {
        "colab": {
          "base_uri": "https://localhost:8080/"
        },
        "id": "3TNmK-kyCdY5",
        "outputId": "d9790dac-6d8d-4162-ac19-72e7882b183d"
      },
      "execution_count": 34,
      "outputs": [
        {
          "output_type": "stream",
          "name": "stdout",
          "text": [
            "Value associated with 'name': Alice\n"
          ]
        }
      ]
    },
    {
      "cell_type": "code",
      "source": [
        "#Q24. Write a code to remove the key \"age\" from the dictionary {'name': 'Bob', 'age': 22, 'city': 'New York'}.\n",
        "\n",
        "# Define the dictionary\n",
        "person = {'name': 'Bob', 'age': 22, 'city': 'New York'}\n",
        "\n",
        "# Remove the key \"age\"\n",
        "person.pop('age')\n",
        "\n",
        "# Print the updated dictionary\n",
        "print(\"Updated dictionary:\", person)\n",
        "\n"
      ],
      "metadata": {
        "colab": {
          "base_uri": "https://localhost:8080/"
        },
        "id": "utvuF94iCc9l",
        "outputId": "5c547d15-c560-439b-c86b-1f01b3206882"
      },
      "execution_count": 35,
      "outputs": [
        {
          "output_type": "stream",
          "name": "stdout",
          "text": [
            "Updated dictionary: {'name': 'Bob', 'city': 'New York'}\n"
          ]
        }
      ]
    },
    {
      "cell_type": "code",
      "source": [
        "#Q25. Write a code to check if the key \"city\" exists in the dictionary {'name': 'Alice', 'city': 'Paris'}.\n",
        "\n",
        "# Define the dictionary\n",
        "person = {'name': 'Alice', 'city': 'Paris'}\n",
        "\n",
        "# Check if \"city\" exists in the dictionary\n",
        "if 'city' in person:\n",
        "    print(\"The key 'city' exists in the dictionary.\")\n",
        "else:\n",
        "    print(\"The key 'city' does NOT exist in the dictionary.\")\n"
      ],
      "metadata": {
        "colab": {
          "base_uri": "https://localhost:8080/"
        },
        "id": "XDXXzacjCcWL",
        "outputId": "8114b762-7884-4e8f-fdbe-aa75ed6f5c33"
      },
      "execution_count": 36,
      "outputs": [
        {
          "output_type": "stream",
          "name": "stdout",
          "text": [
            "The key 'city' exists in the dictionary.\n"
          ]
        }
      ]
    },
    {
      "cell_type": "code",
      "source": [
        "#Q26. Write a code to create a list, a tuple, and a dictionary, and print them all.\n",
        "\n",
        "# Create a list\n",
        "my_list = [1, 2, 3, 4, 5]\n",
        "\n",
        "# Create a tuple\n",
        "my_tuple = ('apple', 'banana', 'cherry')\n",
        "\n",
        "# Create a dictionary\n",
        "my_dict = {'name': 'Alice', 'age': 25, 'city': 'New York'}\n",
        "\n",
        "# Print all three\n",
        "print(\"List:\", my_list)\n",
        "print(\"Tuple:\", my_tuple)\n",
        "print(\"Dictionary:\", my_dict)\n"
      ],
      "metadata": {
        "colab": {
          "base_uri": "https://localhost:8080/"
        },
        "id": "SQ4OxE7VCbuR",
        "outputId": "62e8a609-124d-413f-a015-81880d4912d1"
      },
      "execution_count": 37,
      "outputs": [
        {
          "output_type": "stream",
          "name": "stdout",
          "text": [
            "List: [1, 2, 3, 4, 5]\n",
            "Tuple: ('apple', 'banana', 'cherry')\n",
            "Dictionary: {'name': 'Alice', 'age': 25, 'city': 'New York'}\n"
          ]
        }
      ]
    },
    {
      "cell_type": "code",
      "source": [
        "#Q27. Write a code to create a list of 5 random numbers between 1 and 100, sort it in ascending order, and print the result.(replaced)\n",
        "\n",
        "\n",
        "\n",
        "import random\n",
        "\n",
        "# Generate a list of 5 random numbers between 1 and 100\n",
        "random_numbers = random.sample(range(1, 101), 5)\n",
        "\n",
        "# Sort the list in ascending order\n",
        "random_numbers.sort()\n",
        "\n",
        "# Print the sorted list\n",
        "print(\"Sorted list of random numbers:\", random_numbers)\n"
      ],
      "metadata": {
        "colab": {
          "base_uri": "https://localhost:8080/"
        },
        "id": "01YnGCkzCa9U",
        "outputId": "63a2cdf1-f559-4374-bfa0-b16e62756b94"
      },
      "execution_count": 39,
      "outputs": [
        {
          "output_type": "stream",
          "name": "stdout",
          "text": [
            "Sorted list of random numbers: [12, 24, 85, 90, 98]\n"
          ]
        }
      ]
    },
    {
      "cell_type": "code",
      "source": [
        "#Q28.  Write a code to create a list with strings and print the element at the third index.\n",
        "\n",
        "# Create a list with strings\n",
        "my_list = [\"apple\", \"banana\", \"cherry\", \"date\", \"elderberry\"]\n",
        "\n",
        "# Access and print the element at index 3 (fourth element)\n",
        "print(\"Element at index 3:\", my_list[3])\n"
      ],
      "metadata": {
        "colab": {
          "base_uri": "https://localhost:8080/"
        },
        "id": "DOdFdKDeCZ33",
        "outputId": "93a50197-ddba-4f0e-faa6-496c8d8d1fe0"
      },
      "execution_count": 40,
      "outputs": [
        {
          "output_type": "stream",
          "name": "stdout",
          "text": [
            "Element at index 3: date\n"
          ]
        }
      ]
    },
    {
      "cell_type": "code",
      "source": [
        "#Q29. Write a code to combine two dictionaries into one and print the result.\n",
        "\n",
        "\n",
        "# Define two dictionaries\n",
        "dict1 = {'name': 'Alice', 'age': 25}\n",
        "dict2 = {'city': 'New York', 'country': 'USA'}\n",
        "\n",
        "# Combine the dictionaries\n",
        "combined_dict = {**dict1, **dict2}\n",
        "\n",
        "# Print the result\n",
        "print(\"Combined Dictionary:\", combined_dict)\n"
      ],
      "metadata": {
        "colab": {
          "base_uri": "https://localhost:8080/"
        },
        "id": "qRL5wNmnCZBK",
        "outputId": "23ce57fe-fa5c-41c4-9279-2f2408fba6a0"
      },
      "execution_count": 41,
      "outputs": [
        {
          "output_type": "stream",
          "name": "stdout",
          "text": [
            "Combined Dictionary: {'name': 'Alice', 'age': 25, 'city': 'New York', 'country': 'USA'}\n"
          ]
        }
      ]
    },
    {
      "cell_type": "code",
      "source": [
        "#Q30. Write a code to convert a list of strings into a set\n",
        "\n",
        "# Define a list of strings\n",
        "string_list = [\"apple\", \"banana\", \"cherry\", \"apple\", \"banana\"]\n",
        "\n",
        "# Convert the list to a set\n",
        "string_set = set(string_list)\n",
        "\n",
        "# Print the result\n",
        "print(\"Set:\", string_set)\n"
      ],
      "metadata": {
        "colab": {
          "base_uri": "https://localhost:8080/"
        },
        "id": "808SEdkXCW2f",
        "outputId": "20bfd98f-f249-423d-fc84-bd233ad9fb1f"
      },
      "execution_count": 42,
      "outputs": [
        {
          "output_type": "stream",
          "name": "stdout",
          "text": [
            "Set: {'banana', 'apple', 'cherry'}\n"
          ]
        }
      ]
    },
    {
      "cell_type": "code",
      "source": [],
      "metadata": {
        "id": "BGiqPmdLG2pI"
      },
      "execution_count": null,
      "outputs": []
    }
  ]
}